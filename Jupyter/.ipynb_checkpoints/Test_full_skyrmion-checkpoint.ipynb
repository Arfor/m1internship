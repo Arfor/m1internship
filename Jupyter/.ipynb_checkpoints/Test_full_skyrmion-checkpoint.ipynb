{
 "cells": [
  {
   "cell_type": "code",
   "execution_count": 1,
   "metadata": {},
   "outputs": [],
   "source": [
    "import functions as f #self-defined functions in functions.py\n",
    "import kwant\n",
    "import tinyarray as tiny\n",
    "import numpy as np \n",
    "from numpy import linalg as LA\n",
    "from types import SimpleNamespace\n",
    "import holoviews as hv\n",
    "from holoviews import opts\n",
    "from matplotlib import pyplot as plt\n",
    "# hv.extension('matplotlib', logo=False) #BOKEH DOESNT SUPPORT LATEX IN LABELS\n",
    "hv.extension('bokeh', logo=False)\n",
    "import time\n",
    "\n",
    "pauli=f.pauli\n",
    "# spin_vector = [pauli.s0sx,pauli.s0sy,pauli.s0sz]\n",
    "dims = dict(kx = 'k_x',ky = 'k_y', mu = 'µ', delta = 'Δ', t = 't', E='ε',mu_t = 'µ/t')"
   ]
  },
  {
   "cell_type": "code",
   "execution_count": 2,
   "metadata": {},
   "outputs": [],
   "source": [
    "def magn_texture(position, R0=0, radius=10, azi_winding=1, radi_winding=1):\n",
    "    x,y = position\n",
    "    theta = np.arctan2(x,y)\n",
    "    q = azi_winding\n",
    "    p = radi_winding\n",
    "    R = radius\n",
    "    r = np.sqrt(x**2 + y**2)\n",
    "    B = [np.sin(np.pi*p*(r/R))*np.cos(q*theta), np.sin(np.pi*p*(r/R))*np.sin(q*theta), np.cos(np.pi*p*(r/R))]\n",
    "    return B\n",
    "\n",
    "def onsite(site, radius, t, mu, j, azi_winding, radi_winding, delta): #define a function to determine the onsite energy term of the Hamiltonian\n",
    "    position = site.pos #site is a class! Apart from real space position contains the type of atom (to which family it belongs, how many orbitals etc)\n",
    "    B = magn_texture(position, radius, azi_winding, radi_winding) #calculate direction of magnetic field at position (x,y)\n",
    "    skyrmion_interaction = j*(B[0]*pauli.s0sx + B[1]*pauli.s0sy + B[2]*pauli.s0sz)\n",
    "    return 4*t*pauli.szs0 - mu*pauli.szs0 + delta*pauli.sxs0 + skyrmion_interaction\n",
    "    \n",
    "def hopping(position1,position2,t): #define the hopping terms in your system\n",
    "    return -t*pauli.szs0\n",
    "\n",
    "def build_disk(radius=10, plot=False):\n",
    "    sys = kwant.Builder() #initialize your system\n",
    "    sqlat = kwant.lattice.square(norbs=2)\n",
    "\n",
    "    #define a Boolean function to shape your system\n",
    "    def disk(position): \n",
    "        x,y = position\n",
    "        return x**2 + y**2 < radius**2\n",
    "\n",
    "    sys[sqlat.shape(disk,(0,0))]= onsite\n",
    "    sys[sqlat.neighbors()]= hopping\n",
    "\n",
    "    if plot:\n",
    "        system_plot = kwant.plot(sys)\n",
    "        \n",
    "    return sys.finalized()"
   ]
  },
  {
   "cell_type": "code",
   "execution_count": 3,
   "metadata": {},
   "outputs": [
    {
     "ename": "NameError",
     "evalue": "name 'kwant' is not defined",
     "output_type": "error",
     "traceback": [
      "\u001b[1;31m---------------------------------------------------------------------------\u001b[0m",
      "\u001b[1;31mNameError\u001b[0m                                 Traceback (most recent call last)",
      "\u001b[1;32m<ipython-input-3-81463ab53453>\u001b[0m in \u001b[0;36m<module>\u001b[1;34m\u001b[0m\n\u001b[0;32m      1\u001b[0m \u001b[0mparams\u001b[0m \u001b[1;33m=\u001b[0m \u001b[0mdict\u001b[0m\u001b[1;33m(\u001b[0m\u001b[0mradius\u001b[0m\u001b[1;33m=\u001b[0m\u001b[1;36m11\u001b[0m\u001b[1;33m,\u001b[0m \u001b[0mt\u001b[0m\u001b[1;33m=\u001b[0m\u001b[1;36m1\u001b[0m\u001b[1;33m,\u001b[0m \u001b[0mmu\u001b[0m\u001b[1;33m=\u001b[0m\u001b[1;36m0\u001b[0m\u001b[1;33m,\u001b[0m \u001b[0mj\u001b[0m\u001b[1;33m=\u001b[0m\u001b[1;36m0\u001b[0m\u001b[1;33m,\u001b[0m \u001b[0mdelta\u001b[0m\u001b[1;33m=\u001b[0m\u001b[1;36m0\u001b[0m\u001b[1;33m,\u001b[0m \u001b[0mazi_winding\u001b[0m\u001b[1;33m=\u001b[0m\u001b[1;36m1\u001b[0m\u001b[1;33m,\u001b[0m \u001b[0mradi_winding\u001b[0m\u001b[1;33m=\u001b[0m\u001b[1;36m1\u001b[0m\u001b[1;33m)\u001b[0m\u001b[1;33m\u001b[0m\u001b[1;33m\u001b[0m\u001b[0m\n\u001b[1;32m----> 2\u001b[1;33m \u001b[0msys\u001b[0m \u001b[1;33m=\u001b[0m \u001b[0mbuild_disk\u001b[0m\u001b[1;33m(\u001b[0m\u001b[0mradius\u001b[0m \u001b[1;33m=\u001b[0m \u001b[0mparams\u001b[0m\u001b[1;33m[\u001b[0m\u001b[1;34m'radius'\u001b[0m\u001b[1;33m]\u001b[0m\u001b[1;33m,\u001b[0m \u001b[0mplot\u001b[0m\u001b[1;33m=\u001b[0m\u001b[1;32mTrue\u001b[0m\u001b[1;33m)\u001b[0m\u001b[1;33m\u001b[0m\u001b[1;33m\u001b[0m\u001b[0m\n\u001b[0m",
      "\u001b[1;32m<ipython-input-2-6b58cf27e445>\u001b[0m in \u001b[0;36mbuild_disk\u001b[1;34m(radius, plot)\u001b[0m\n\u001b[0;32m     19\u001b[0m \u001b[1;33m\u001b[0m\u001b[0m\n\u001b[0;32m     20\u001b[0m \u001b[1;32mdef\u001b[0m \u001b[0mbuild_disk\u001b[0m\u001b[1;33m(\u001b[0m\u001b[0mradius\u001b[0m\u001b[1;33m=\u001b[0m\u001b[1;36m10\u001b[0m\u001b[1;33m,\u001b[0m \u001b[0mplot\u001b[0m\u001b[1;33m=\u001b[0m\u001b[1;32mFalse\u001b[0m\u001b[1;33m)\u001b[0m\u001b[1;33m:\u001b[0m\u001b[1;33m\u001b[0m\u001b[1;33m\u001b[0m\u001b[0m\n\u001b[1;32m---> 21\u001b[1;33m     \u001b[0msys\u001b[0m \u001b[1;33m=\u001b[0m \u001b[0mkwant\u001b[0m\u001b[1;33m.\u001b[0m\u001b[0mBuilder\u001b[0m\u001b[1;33m(\u001b[0m\u001b[1;33m)\u001b[0m \u001b[1;31m#initialize your system\u001b[0m\u001b[1;33m\u001b[0m\u001b[1;33m\u001b[0m\u001b[0m\n\u001b[0m\u001b[0;32m     22\u001b[0m     \u001b[0msqlat\u001b[0m \u001b[1;33m=\u001b[0m \u001b[0mkwant\u001b[0m\u001b[1;33m.\u001b[0m\u001b[0mlattice\u001b[0m\u001b[1;33m.\u001b[0m\u001b[0msquare\u001b[0m\u001b[1;33m(\u001b[0m\u001b[0mnorbs\u001b[0m\u001b[1;33m=\u001b[0m\u001b[1;36m2\u001b[0m\u001b[1;33m)\u001b[0m\u001b[1;33m\u001b[0m\u001b[1;33m\u001b[0m\u001b[0m\n\u001b[0;32m     23\u001b[0m \u001b[1;33m\u001b[0m\u001b[0m\n",
      "\u001b[1;31mNameError\u001b[0m: name 'kwant' is not defined"
     ]
    }
   ],
   "source": [
    "params = dict(radius=11, t=1, mu=0, j=0, delta=0, azi_winding=1, radi_winding=1)\n",
    "sys = build_disk(radius = params['radius'], plot=True)"
   ]
  },
  {
   "cell_type": "code",
   "execution_count": 8,
   "metadata": {},
   "outputs": [
    {
     "data": {
      "text/plain": [
       "[-0.28895080277366236, 0.5779016055473247, 0.7632412252245553]"
      ]
     },
     "execution_count": 8,
     "metadata": {},
     "output_type": "execute_result"
    }
   ],
   "source": []
  },
  {
   "cell_type": "code",
   "execution_count": 15,
   "metadata": {},
   "outputs": [
    {
     "data": {
      "text/plain": [
       "array([[[ 0.+0.j,  0.+0.j,  1.+0.j],\n",
       "        [ 1.+0.j,  0.-1.j,  0.+0.j],\n",
       "        [ 0.+0.j,  0.+0.j,  0.+0.j],\n",
       "        [ 0.+0.j,  0.-0.j,  0.+0.j]],\n",
       "\n",
       "       [[ 1.+0.j,  0.+1.j,  0.+0.j],\n",
       "        [ 0.+0.j,  0.+0.j, -1.+0.j],\n",
       "        [ 0.+0.j,  0.+0.j,  0.+0.j],\n",
       "        [ 0.+0.j,  0.+0.j, -0.+0.j]],\n",
       "\n",
       "       [[ 0.+0.j,  0.+0.j,  0.+0.j],\n",
       "        [ 0.+0.j,  0.-0.j,  0.+0.j],\n",
       "        [ 0.+0.j,  0.+0.j,  1.+0.j],\n",
       "        [ 1.+0.j,  0.-1.j,  0.+0.j]],\n",
       "\n",
       "       [[ 0.+0.j,  0.+0.j,  0.+0.j],\n",
       "        [ 0.+0.j,  0.+0.j, -0.+0.j],\n",
       "        [ 1.+0.j,  0.+1.j,  0.+0.j],\n",
       "        [ 0.+0.j,  0.+0.j, -1.+0.j]]])"
      ]
     },
     "execution_count": 15,
     "metadata": {},
     "output_type": "execute_result"
    }
   ],
   "source": [
    "    "
   ]
  },
  {
   "cell_type": "code",
   "execution_count": null,
   "metadata": {},
   "outputs": [],
   "source": []
  }
 ],
 "metadata": {
  "kernelspec": {
   "display_name": "Python 3",
   "language": "python",
   "name": "python3"
  },
  "language_info": {
   "codemirror_mode": {
    "name": "ipython",
    "version": 3
   },
   "file_extension": ".py",
   "mimetype": "text/x-python",
   "name": "python",
   "nbconvert_exporter": "python",
   "pygments_lexer": "ipython3",
   "version": "3.7.3"
  }
 },
 "nbformat": 4,
 "nbformat_minor": 2
}
