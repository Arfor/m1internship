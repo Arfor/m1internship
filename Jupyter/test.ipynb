{
 "cells": [
  {
   "cell_type": "markdown",
   "metadata": {},
   "source": [
    "# 6.3. Creating interactive Web visualizations with Bokeh and HoloViews"
   ]
  },
  {
   "cell_type": "code",
   "execution_count": 1,
   "metadata": {},
   "outputs": [
    {
     "name": "stderr",
     "output_type": "stream",
     "text": [
      "C:\\ProgramData\\Anaconda3\\envs\\lps\\lib\\site-packages\\kwant\\solvers\\default.py:18: RuntimeWarning: MUMPS is not available, SciPy built-in solver will be used as a fallback. Performance can be very poor in this case.\n",
      "  \"Performance can be very poor in this case.\", RuntimeWarning)\n"
     ]
    }
   ],
   "source": [
    "from matplotlib import pyplot\n",
    "import kwant\n",
    "import numpy as np\n",
    "from numpy import linalg as LA\n",
    "import scipy.sparse.linalg as sla\n",
    "from types import SimpleNamespace\n"
   ]
  },
  {
   "cell_type": "code",
   "execution_count": 11,
   "metadata": {},
   "outputs": [],
   "source": [
    "sys = kwant.Builder() #initialize your system\n",
    "lat = kwant.lattice.square()\n",
    "r=10\n",
    "\n",
    "def onsite(position,p): #define a function to determine the onsite energy term of the Hamiltonian\n",
    "    x,y = position\n",
    "#     n = skyrmion((x,y),p)#calculate direction of magnetic field at position (x,y)\n",
    "    return p.mu\n",
    "\n",
    "def hopping(x,y,p): #define the hopping terms in your system\n",
    "    return -p.t\n",
    "\n",
    "sys[(lat(x, y) for x in range(r) for y in range(r))] = onsite #the tuple (0,0) sets the centre of the disk at the origin\n",
    "sys[sqlat.neighbors(1)]= hopping\n",
    "# kwant.plot(sys)\n",
    "syst = sys.finalized()"
   ]
  },
  {
   "cell_type": "code",
   "execution_count": 25,
   "metadata": {},
   "outputs": [
    {
     "name": "stderr",
     "output_type": "stream",
     "text": [
      "C:\\ProgramData\\Anaconda3\\envs\\lps\\lib\\site-packages\\ipykernel_launcher.py:2: KwantDeprecationWarning: The 'args' parameter has been deprecated since version 1.4 -- Instead, provide named parameters as a dictionary via 'params'.\n",
      "  \n"
     ]
    },
    {
     "data": {
      "text/plain": [
       "array([[-0.1+0.j, -1. -0.j,  0. +0.j, ...,  0. +0.j,  0. +0.j,  0. +0.j],\n",
       "       [-1. +0.j, -0.1+0.j, -1. -0.j, ...,  0. +0.j,  0. +0.j,  0. +0.j],\n",
       "       [ 0. +0.j, -1. +0.j, -0.1+0.j, ...,  0. +0.j,  0. +0.j,  0. +0.j],\n",
       "       ...,\n",
       "       [ 0. +0.j,  0. +0.j,  0. +0.j, ..., -0.1+0.j, -1. -0.j,  0. +0.j],\n",
       "       [ 0. +0.j,  0. +0.j,  0. +0.j, ..., -1. +0.j, -0.1+0.j, -1. -0.j],\n",
       "       [ 0. +0.j,  0. +0.j,  0. +0.j, ...,  0. +0.j, -1. +0.j, -0.1+0.j]])"
      ]
     },
     "execution_count": 25,
     "metadata": {},
     "output_type": "execute_result"
    }
   ],
   "source": [
    "hoi = SimpleNamespace(t=1, mu=-0.1)\n",
    "hamil = syst.hamiltonian_submatrix(args=[hoi])\n",
    "\n",
    "hamil\n"
   ]
  },
  {
   "cell_type": "code",
   "execution_count": 3,
   "metadata": {},
   "outputs": [],
   "source": [
    "kwant.__version__\n",
    "from platform import python_version\n",
    "print(python_version())"
   ]
  }
 ],
 "metadata": {
  "kernelspec": {
   "display_name": "Python 3",
   "language": "python",
   "name": "python3"
  },
  "language_info": {
   "codemirror_mode": {
    "name": "ipython",
    "version": 3
   },
   "file_extension": ".py",
   "mimetype": "text/x-python",
   "name": "python",
   "nbconvert_exporter": "python",
   "pygments_lexer": "ipython3",
   "version": "3.7.3"
  }
 },
 "nbformat": 4,
 "nbformat_minor": 2
}
