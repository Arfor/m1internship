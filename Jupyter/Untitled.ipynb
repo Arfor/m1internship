{
 "cells": [
  {
   "cell_type": "code",
   "execution_count": 17,
   "metadata": {},
   "outputs": [],
   "source": [
    "import types\n",
    "class SimpleNamespace(types.SimpleNamespace):\n",
    "    def update(self, **kwargs):\n",
    "        self.__dict__.update(kwargs)\n",
    "        return self\n",
    "    def __getitem__(self, name):\n",
    "        return self.__dict__[name]\n",
    "    \n",
    "p = SimpleNamespace(t=1, mu=-0.1, j=0.02, delta=0.2, B0=0.1) #define your parameters\n",
    "# p.__getitem__(t)"
   ]
  },
  {
   "cell_type": "code",
   "execution_count": 20,
   "metadata": {},
   "outputs": [
    {
     "data": {
      "text/plain": [
       "1"
      ]
     },
     "execution_count": 20,
     "metadata": {},
     "output_type": "execute_result"
    }
   ],
   "source": [
    "p.__getitem__('t')"
   ]
  },
  {
   "cell_type": "code",
   "execution_count": null,
   "metadata": {},
   "outputs": [],
   "source": []
  }
 ],
 "metadata": {
  "kernelspec": {
   "display_name": "Python 3",
   "language": "python",
   "name": "python3"
  },
  "language_info": {
   "codemirror_mode": {
    "name": "ipython",
    "version": 3
   },
   "file_extension": ".py",
   "mimetype": "text/x-python",
   "name": "python",
   "nbconvert_exporter": "python",
   "pygments_lexer": "ipython3",
   "version": "3.7.3"
  }
 },
 "nbformat": 4,
 "nbformat_minor": 2
}
