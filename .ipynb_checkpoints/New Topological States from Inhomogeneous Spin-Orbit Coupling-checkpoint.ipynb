{
 "cells": [
  {
   "cell_type": "markdown",
   "metadata": {},
   "source": [
    "# New Topological States from Inhomogeneous Spin-Orbit Coupling\n",
    "## J.J.A. Houwman\n",
    "\n",
    "<p style='text-align: justify;'>\n",
    "Blabla\n",
    "The purpose of this research project is to lay the theoretical foundations for a subsequent in-depth internship. The topic of this internship will be \\textit{New topological states from inhomogeneous spin-orbit coupling}, which neatly states the subject that needs to be tackled in this research project: Topological states of matter. In order to do this, a firm footing in the formalism of second quantization is needed, which is why an extensive review on second quantization is given in this report based on various lecture notes and books. <br>\n",
    "Once a certain familiarity has been developed with second quantization, it will be applied to 1-dimensional homogeneous and dimerized chains of atoms. The dimerized chain will show us how a topological phase transition occurs in a 1-dimensional chain and how this leads to localised edge states. Furthermore, it will bring us the notion of topological invariants, which are the winding number and number of edge states in the case of the 1-dimensional dimerized chain. <br>\n",
    "</p>"
   ]
  },
  {
   "cell_type": "code",
   "execution_count": null,
   "metadata": {
    "collapsed": true
   },
   "outputs": [],
   "source": []
  }
 ],
 "metadata": {
  "kernelspec": {
   "display_name": "Python 3",
   "language": "python",
   "name": "python3"
  },
  "language_info": {
   "codemirror_mode": {
    "name": "ipython",
    "version": 3
   },
   "file_extension": ".py",
   "mimetype": "text/x-python",
   "name": "python",
   "nbconvert_exporter": "python",
   "pygments_lexer": "ipython3",
   "version": "3.6.6"
  }
 },
 "nbformat": 4,
 "nbformat_minor": 2
}
